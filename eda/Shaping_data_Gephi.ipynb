{
 "cells": [
  {
   "cell_type": "code",
   "execution_count": 1,
   "metadata": {},
   "outputs": [],
   "source": [
    "import pandas as pd\n",
    "import seaborn as sns\n",
    "import numpy as np\n",
    "from matplotlib import pyplot as plt\n",
    "from ipywidgets import interact, interactive, fixed\n",
    "from ipywidgets import IntSlider\n",
    "import networkx as nx\n",
    "import re\n",
    "\n",
    "import sys\n",
    "sys.path.append('..')\n",
    "from transform.read_transform import read_transform"
   ]
  },
  {
   "cell_type": "code",
   "execution_count": 74,
   "metadata": {},
   "outputs": [
    {
     "name": "stdout",
     "output_type": "stream",
     "text": [
      "(44334, 19)\n"
     ]
    }
   ],
   "source": [
    "data = read_transform(path_tweets='../data/TW.csv', path_retweets='../data/RT.csv', \n",
    "                      join_method='concat', \n",
    "                      hashtags_as_list=False, mentions_as_list=False)\n",
    "print(data.shape)"
   ]
  },
  {
   "cell_type": "markdown",
   "metadata": {},
   "source": [
    "## Get all the mentions in a dictionary"
   ]
  },
  {
   "cell_type": "code",
   "execution_count": 82,
   "metadata": {},
   "outputs": [
    {
     "name": "stdout",
     "output_type": "stream",
     "text": [
      "(34171, 2)\n"
     ]
    },
    {
     "data": {
      "text/html": [
       "<div>\n",
       "<style scoped>\n",
       "    .dataframe tbody tr th:only-of-type {\n",
       "        vertical-align: middle;\n",
       "    }\n",
       "\n",
       "    .dataframe tbody tr th {\n",
       "        vertical-align: top;\n",
       "    }\n",
       "\n",
       "    .dataframe thead th {\n",
       "        text-align: right;\n",
       "    }\n",
       "</style>\n",
       "<table border=\"1\" class=\"dataframe\">\n",
       "  <thead>\n",
       "    <tr style=\"text-align: right;\">\n",
       "      <th></th>\n",
       "      <th>mentions</th>\n",
       "    </tr>\n",
       "    <tr>\n",
       "      <th>user_screen_name</th>\n",
       "      <th></th>\n",
       "    </tr>\n",
       "  </thead>\n",
       "  <tbody>\n",
       "    <tr>\n",
       "      <th>ReAnimetron</th>\n",
       "      <td>[byOceanEyes]</td>\n",
       "    </tr>\n",
       "    <tr>\n",
       "      <th>Jenna_Blum</th>\n",
       "      <td>[AMIGHTYBLAZE, fascicles]</td>\n",
       "    </tr>\n",
       "  </tbody>\n",
       "</table>\n",
       "</div>"
      ],
      "text/plain": [
       "                                   mentions\n",
       "user_screen_name                           \n",
       "ReAnimetron                   [byOceanEyes]\n",
       "Jenna_Blum        [AMIGHTYBLAZE, fascicles]"
      ]
     },
     "execution_count": 82,
     "metadata": {},
     "output_type": "execute_result"
    }
   ],
   "source": [
    "tmp = data[['mentions', 'user_screen_name']]\n",
    "tmp = tmp[tmp['mentions'].isnull() == False]\n",
    "tmp.loc[:,'mentions'] = tmp.loc[:,'mentions'].str.replace(\"'\", \"\").str.split(', ')\n",
    "print(tmp.shape)\n",
    "\n",
    "tmp = tmp.set_index('user_screen_name')\n",
    "tmp.head(2)"
   ]
  },
  {
   "cell_type": "code",
   "execution_count": 83,
   "metadata": {},
   "outputs": [
    {
     "data": {
      "text/plain": [
       "ReAnimetron                [byOceanEyes]\n",
       "Jenna_Blum     [AMIGHTYBLAZE, fascicles]\n",
       "dtype: object"
      ]
     },
     "execution_count": 83,
     "metadata": {},
     "output_type": "execute_result"
    }
   ],
   "source": [
    "mentions = tmp.to_dict()['mentions']\n",
    "pd.Series(mentions)[:2]"
   ]
  },
  {
   "cell_type": "markdown",
   "metadata": {},
   "source": [
    "## Get all the attributes in a dictionary"
   ]
  },
  {
   "cell_type": "code",
   "execution_count": 84,
   "metadata": {},
   "outputs": [
    {
     "data": {
      "text/plain": [
       "ReAnimetron       5064\n",
       "DiningCooking    16020\n",
       "dtype: int64"
      ]
     },
     "execution_count": 84,
     "metadata": {},
     "output_type": "execute_result"
    }
   ],
   "source": [
    "tmp = data[['user_screen_name', 'followers_count']].set_index('user_screen_name')\n",
    "follower_counts = tmp.to_dict()['followers_count']\n",
    "pd.Series(follower_counts)[:2]"
   ]
  },
  {
   "cell_type": "markdown",
   "metadata": {},
   "source": [
    "## Create Graph-File"
   ]
  },
  {
   "cell_type": "code",
   "execution_count": 98,
   "metadata": {},
   "outputs": [],
   "source": [
    "G = nx.DiGraph()"
   ]
  },
  {
   "cell_type": "code",
   "execution_count": 99,
   "metadata": {},
   "outputs": [],
   "source": [
    "# Add nodes\n",
    "for key, mention in mentions.items():\n",
    "    G.add_node(key, followers_count=follower_counts[key])\n",
    "    if type(mentions) != float:\n",
    "        for m in mentions:\n",
    "            G.add_node(m, followers_count=follower_counts[m])"
   ]
  },
  {
   "cell_type": "code",
   "execution_count": 100,
   "metadata": {},
   "outputs": [
    {
     "data": {
      "text/plain": [
       "ReAnimetron     5064\n",
       "Jenna_Blum      6090\n",
       "tbevents_        822\n",
       "DGSpeaks       10223\n",
       "lealalicia      1035\n",
       "dtype: int64"
      ]
     },
     "execution_count": 100,
     "metadata": {},
     "output_type": "execute_result"
    }
   ],
   "source": [
    "pd.Series(nx.get_node_attributes(G, 'followers_count'))[:5]"
   ]
  },
  {
   "cell_type": "code",
   "execution_count": 101,
   "metadata": {},
   "outputs": [],
   "source": [
    "# Add edges\n",
    "for key, val in mentions.items():\n",
    "    if type(val) != float:\n",
    "        for v in val:\n",
    "            G.add_edge(key, v)"
   ]
  },
  {
   "cell_type": "code",
   "execution_count": 102,
   "metadata": {},
   "outputs": [],
   "source": [
    "nx.write_gexf(G, path='./myData/mention_attr.gexf')"
   ]
  },
  {
   "cell_type": "code",
   "execution_count": null,
   "metadata": {},
   "outputs": [],
   "source": []
  }
 ],
 "metadata": {
  "kernelspec": {
   "display_name": "Python 3",
   "language": "python",
   "name": "python3"
  },
  "language_info": {
   "codemirror_mode": {
    "name": "ipython",
    "version": 3
   },
   "file_extension": ".py",
   "mimetype": "text/x-python",
   "name": "python",
   "nbconvert_exporter": "python",
   "pygments_lexer": "ipython3",
   "version": "3.8.5"
  }
 },
 "nbformat": 4,
 "nbformat_minor": 4
}
