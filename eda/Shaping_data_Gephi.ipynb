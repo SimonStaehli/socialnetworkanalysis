{
 "cells": [
  {
   "cell_type": "code",
   "execution_count": 1,
   "metadata": {},
   "outputs": [],
   "source": [
    "import pandas as pd\n",
    "import seaborn as sns\n",
    "import numpy as np\n",
    "from matplotlib import pyplot as plt\n",
    "from ipywidgets import interact, interactive, fixed\n",
    "from ipywidgets import IntSlider\n",
    "import networkx as nx\n",
    "import re\n",
    "import sys\n",
    "sys.path.append('..')\n",
    "from transform.read_transform import read_transform"
   ]
  },
  {
   "cell_type": "code",
   "execution_count": 2,
   "metadata": {},
   "outputs": [
    {
     "name": "stdout",
     "output_type": "stream",
     "text": [
      "(44334, 19)\n"
     ]
    }
   ],
   "source": [
    "data = read_transform(path_tweets='../data/TW.csv', path_retweets='../data/RT.csv', \n",
    "                      join_method='concat', \n",
    "                      hashtags_as_list=False, mentions_as_list=False)\n",
    "print(data.shape)"
   ]
  },
  {
   "cell_type": "code",
   "execution_count": 3,
   "metadata": {},
   "outputs": [
    {
     "data": {
      "text/html": [
       "<div>\n",
       "<style scoped>\n",
       "    .dataframe tbody tr th:only-of-type {\n",
       "        vertical-align: middle;\n",
       "    }\n",
       "\n",
       "    .dataframe tbody tr th {\n",
       "        vertical-align: top;\n",
       "    }\n",
       "\n",
       "    .dataframe thead th {\n",
       "        text-align: right;\n",
       "    }\n",
       "</style>\n",
       "<table border=\"1\" class=\"dataframe\">\n",
       "  <thead>\n",
       "    <tr style=\"text-align: right;\">\n",
       "      <th></th>\n",
       "      <th>creation_date</th>\n",
       "      <th>description</th>\n",
       "      <th>entities_hashtags</th>\n",
       "      <th>favourite_count</th>\n",
       "      <th>followers_count</th>\n",
       "      <th>friends_count</th>\n",
       "      <th>full_text</th>\n",
       "      <th>location</th>\n",
       "      <th>mentions</th>\n",
       "      <th>profile_created_at</th>\n",
       "      <th>protected</th>\n",
       "      <th>retweet_count</th>\n",
       "      <th>search_key</th>\n",
       "      <th>tweet_id</th>\n",
       "      <th>user_id</th>\n",
       "      <th>user_name</th>\n",
       "      <th>user_screen_name</th>\n",
       "      <th>is_retweet</th>\n",
       "      <th>RT_of_ID</th>\n",
       "    </tr>\n",
       "  </thead>\n",
       "  <tbody>\n",
       "    <tr>\n",
       "      <th>0</th>\n",
       "      <td>2021-04-01 02:06:11+00:00</td>\n",
       "      <td>I retweet #Anime stuff🔥 Follow for a cookie🍪</td>\n",
       "      <td>anime, food, animefood, hungry, 백종원, 고든램지</td>\n",
       "      <td>0</td>\n",
       "      <td>5064</td>\n",
       "      <td>1</td>\n",
       "      <td>RT @byOceanEyes: OceanEyes\\nonly for anime foo...</td>\n",
       "      <td>Animeland</td>\n",
       "      <td>'byOceanEyes'</td>\n",
       "      <td>2018-07-24 18:53:54+00:00</td>\n",
       "      <td>False</td>\n",
       "      <td>115</td>\n",
       "      <td>#food</td>\n",
       "      <td>1377442135604084742</td>\n",
       "      <td>1021830850357473280</td>\n",
       "      <td>RE:AnimeTron</td>\n",
       "      <td>ReAnimetron</td>\n",
       "      <td>True</td>\n",
       "      <td>NaN</td>\n",
       "    </tr>\n",
       "    <tr>\n",
       "      <th>1</th>\n",
       "      <td>2021-04-01 02:06:03+00:00</td>\n",
       "      <td>NaN</td>\n",
       "      <td>Food, FoodPorn, FoodPorn</td>\n",
       "      <td>0</td>\n",
       "      <td>16037</td>\n",
       "      <td>9925</td>\n",
       "      <td>Might not look as appetizing as other posts, b...</td>\n",
       "      <td>NaN</td>\n",
       "      <td>NaN</td>\n",
       "      <td>2015-08-01 07:11:08+00:00</td>\n",
       "      <td>False</td>\n",
       "      <td>0</td>\n",
       "      <td>#food</td>\n",
       "      <td>1377442100900421632</td>\n",
       "      <td>3303170203</td>\n",
       "      <td>Dining Cooking</td>\n",
       "      <td>DiningCooking</td>\n",
       "      <td>False</td>\n",
       "      <td>NaN</td>\n",
       "    </tr>\n",
       "    <tr>\n",
       "      <th>2</th>\n",
       "      <td>2021-04-01 02:05:30+00:00</td>\n",
       "      <td>NYT/#1 int'l bestselling author THOSE WHO SAVE...</td>\n",
       "      <td>poetry, food, PoetsCafe</td>\n",
       "      <td>0</td>\n",
       "      <td>6090</td>\n",
       "      <td>758</td>\n",
       "      <td>Come for the #poetry, stay for the #food—or vi...</td>\n",
       "      <td>Boston, MA</td>\n",
       "      <td>'AMIGHTYBLAZE', 'fascicles'</td>\n",
       "      <td>2009-09-02 04:30:11+00:00</td>\n",
       "      <td>False</td>\n",
       "      <td>0</td>\n",
       "      <td>#food</td>\n",
       "      <td>1377441963746721796</td>\n",
       "      <td>70882212</td>\n",
       "      <td>Jenna Blum</td>\n",
       "      <td>Jenna_Blum</td>\n",
       "      <td>False</td>\n",
       "      <td>NaN</td>\n",
       "    </tr>\n",
       "  </tbody>\n",
       "</table>\n",
       "</div>"
      ],
      "text/plain": [
       "              creation_date  \\\n",
       "0 2021-04-01 02:06:11+00:00   \n",
       "1 2021-04-01 02:06:03+00:00   \n",
       "2 2021-04-01 02:05:30+00:00   \n",
       "\n",
       "                                         description  \\\n",
       "0       I retweet #Anime stuff🔥 Follow for a cookie🍪   \n",
       "1                                                NaN   \n",
       "2  NYT/#1 int'l bestselling author THOSE WHO SAVE...   \n",
       "\n",
       "                           entities_hashtags  favourite_count  \\\n",
       "0  anime, food, animefood, hungry, 백종원, 고든램지                0   \n",
       "1                   Food, FoodPorn, FoodPorn                0   \n",
       "2                    poetry, food, PoetsCafe                0   \n",
       "\n",
       "   followers_count  friends_count  \\\n",
       "0             5064              1   \n",
       "1            16037           9925   \n",
       "2             6090            758   \n",
       "\n",
       "                                           full_text    location  \\\n",
       "0  RT @byOceanEyes: OceanEyes\\nonly for anime foo...   Animeland   \n",
       "1  Might not look as appetizing as other posts, b...         NaN   \n",
       "2  Come for the #poetry, stay for the #food—or vi...  Boston, MA   \n",
       "\n",
       "                      mentions        profile_created_at  protected  \\\n",
       "0                'byOceanEyes' 2018-07-24 18:53:54+00:00      False   \n",
       "1                          NaN 2015-08-01 07:11:08+00:00      False   \n",
       "2  'AMIGHTYBLAZE', 'fascicles' 2009-09-02 04:30:11+00:00      False   \n",
       "\n",
       "   retweet_count search_key             tweet_id              user_id  \\\n",
       "0            115      #food  1377442135604084742  1021830850357473280   \n",
       "1              0      #food  1377442100900421632           3303170203   \n",
       "2              0      #food  1377441963746721796             70882212   \n",
       "\n",
       "        user_name user_screen_name  is_retweet  RT_of_ID  \n",
       "0    RE:AnimeTron      ReAnimetron        True       NaN  \n",
       "1  Dining Cooking    DiningCooking       False       NaN  \n",
       "2      Jenna Blum       Jenna_Blum       False       NaN  "
      ]
     },
     "execution_count": 3,
     "metadata": {},
     "output_type": "execute_result"
    }
   ],
   "source": [
    "data.head(3)"
   ]
  },
  {
   "cell_type": "markdown",
   "metadata": {},
   "source": [
    "## Get all the mentions in a dictionary"
   ]
  },
  {
   "cell_type": "code",
   "execution_count": 4,
   "metadata": {},
   "outputs": [
    {
     "name": "stdout",
     "output_type": "stream",
     "text": [
      "(44334, 2)\n"
     ]
    },
    {
     "name": "stderr",
     "output_type": "stream",
     "text": [
      "C:\\Users\\simon\\anaconda3\\lib\\site-packages\\pandas\\core\\indexing.py:1783: SettingWithCopyWarning: \n",
      "A value is trying to be set on a copy of a slice from a DataFrame.\n",
      "Try using .loc[row_indexer,col_indexer] = value instead\n",
      "\n",
      "See the caveats in the documentation: https://pandas.pydata.org/pandas-docs/stable/user_guide/indexing.html#returning-a-view-versus-a-copy\n",
      "  self.obj[item_labels[indexer[info_axis]]] = value\n"
     ]
    },
    {
     "data": {
      "text/html": [
       "<div>\n",
       "<style scoped>\n",
       "    .dataframe tbody tr th:only-of-type {\n",
       "        vertical-align: middle;\n",
       "    }\n",
       "\n",
       "    .dataframe tbody tr th {\n",
       "        vertical-align: top;\n",
       "    }\n",
       "\n",
       "    .dataframe thead th {\n",
       "        text-align: right;\n",
       "    }\n",
       "</style>\n",
       "<table border=\"1\" class=\"dataframe\">\n",
       "  <thead>\n",
       "    <tr style=\"text-align: right;\">\n",
       "      <th></th>\n",
       "      <th>mentions</th>\n",
       "    </tr>\n",
       "    <tr>\n",
       "      <th>user_screen_name</th>\n",
       "      <th></th>\n",
       "    </tr>\n",
       "  </thead>\n",
       "  <tbody>\n",
       "    <tr>\n",
       "      <th>ReAnimetron</th>\n",
       "      <td>[byOceanEyes]</td>\n",
       "    </tr>\n",
       "    <tr>\n",
       "      <th>DiningCooking</th>\n",
       "      <td>0</td>\n",
       "    </tr>\n",
       "  </tbody>\n",
       "</table>\n",
       "</div>"
      ],
      "text/plain": [
       "                       mentions\n",
       "user_screen_name               \n",
       "ReAnimetron       [byOceanEyes]\n",
       "DiningCooking                 0"
      ]
     },
     "execution_count": 4,
     "metadata": {},
     "output_type": "execute_result"
    }
   ],
   "source": [
    "tmp = data[['mentions', 'user_screen_name']]\n",
    "tmp.loc[:,'mentions'] = tmp.loc[:,'mentions'].str.replace(\"'\", \"\").str.split(', ')\n",
    "tmp = tmp.fillna(0)\n",
    "print(tmp.shape)\n",
    "\n",
    "tmp = tmp.set_index('user_screen_name')\n",
    "tmp.head(2)"
   ]
  },
  {
   "cell_type": "code",
   "execution_count": 5,
   "metadata": {},
   "outputs": [
    {
     "data": {
      "text/plain": [
       "mentions    True\n",
       "Name: Greenpeace, dtype: bool"
      ]
     },
     "execution_count": 5,
     "metadata": {},
     "output_type": "execute_result"
    }
   ],
   "source": [
    "tmp.loc['Greenpeace'] == 0"
   ]
  },
  {
   "cell_type": "code",
   "execution_count": 6,
   "metadata": {},
   "outputs": [],
   "source": [
    "mentions = tmp.to_dict()['mentions']\n",
    "S = pd.Series(mentions)"
   ]
  },
  {
   "cell_type": "code",
   "execution_count": 7,
   "metadata": {},
   "outputs": [
    {
     "data": {
      "text/plain": [
       "{'ReAnimetron': ['byOceanEyes'],\n",
       " 'DiningCooking': 0,\n",
       " 'Jenna_Blum': ['AMIGHTYBLAZE', 'fascicles']}"
      ]
     },
     "execution_count": 7,
     "metadata": {},
     "output_type": "execute_result"
    }
   ],
   "source": [
    "import itertools\n",
    "dict(itertools.islice(mentions.items(), 3))"
   ]
  },
  {
   "cell_type": "markdown",
   "metadata": {},
   "source": [
    "## Get all the attributes in a dictionary"
   ]
  },
  {
   "cell_type": "code",
   "execution_count": 8,
   "metadata": {},
   "outputs": [
    {
     "data": {
      "text/plain": [
       "ReAnimetron       5064\n",
       "DiningCooking    16020\n",
       "dtype: int64"
      ]
     },
     "execution_count": 8,
     "metadata": {},
     "output_type": "execute_result"
    }
   ],
   "source": [
    "tmp = data[['user_screen_name', 'followers_count']].set_index('user_screen_name')\n",
    "follower_counts = tmp.to_dict()['followers_count']\n",
    "pd.Series(follower_counts)[:2]"
   ]
  },
  {
   "cell_type": "code",
   "execution_count": 9,
   "metadata": {},
   "outputs": [
    {
     "data": {
      "text/plain": [
       "1897589"
      ]
     },
     "execution_count": 9,
     "metadata": {},
     "output_type": "execute_result"
    }
   ],
   "source": [
    "pd.Series(follower_counts).loc['Greenpeace']"
   ]
  },
  {
   "cell_type": "code",
   "execution_count": 10,
   "metadata": {},
   "outputs": [
    {
     "data": {
      "text/plain": [
       "{'ReAnimetron': 5064, 'DiningCooking': 16020, 'Jenna_Blum': 6090}"
      ]
     },
     "execution_count": 10,
     "metadata": {},
     "output_type": "execute_result"
    }
   ],
   "source": [
    "dict(itertools.islice(follower_counts.items(), 3))"
   ]
  },
  {
   "cell_type": "markdown",
   "metadata": {},
   "source": [
    "## Get Retweet count in a dictionary"
   ]
  },
  {
   "cell_type": "code",
   "execution_count": 11,
   "metadata": {},
   "outputs": [
    {
     "name": "stdout",
     "output_type": "stream",
     "text": [
      "004clinden    3.1\n",
      "007201_       1.0\n",
      "dtype: float64\n"
     ]
    },
    {
     "data": {
      "text/plain": [
       "18626"
      ]
     },
     "execution_count": 11,
     "metadata": {},
     "output_type": "execute_result"
    }
   ],
   "source": [
    "tmp = data[['user_screen_name', 'retweet_count']].groupby('user_screen_name').mean()\n",
    "retweet_counts = tmp.to_dict()['retweet_count']\n",
    "print(pd.Series(retweet_counts)[:2])\n",
    "len(retweet_counts)"
   ]
  },
  {
   "cell_type": "code",
   "execution_count": 12,
   "metadata": {},
   "outputs": [
    {
     "data": {
      "text/plain": [
       "23.0"
      ]
     },
     "execution_count": 12,
     "metadata": {},
     "output_type": "execute_result"
    }
   ],
   "source": [
    "pd.Series(retweet_counts).loc['Greenpeace']"
   ]
  },
  {
   "cell_type": "code",
   "execution_count": 13,
   "metadata": {},
   "outputs": [
    {
     "data": {
      "text/plain": [
       "{'004clinden': 3.1, '007201_': 1.0, '0123Mara': 84.0}"
      ]
     },
     "execution_count": 13,
     "metadata": {},
     "output_type": "execute_result"
    }
   ],
   "source": [
    "dict(itertools.islice(retweet_counts.items(), 3))"
   ]
  },
  {
   "cell_type": "markdown",
   "metadata": {},
   "source": [
    "## Get Activity leve of users"
   ]
  },
  {
   "cell_type": "code",
   "execution_count": 14,
   "metadata": {},
   "outputs": [
    {
     "name": "stdout",
     "output_type": "stream",
     "text": [
      "researchmrx       929\n",
      "CounterIreland    326\n",
      "WhatsOnOLIO       252\n",
      "dtype: int64\n"
     ]
    },
    {
     "data": {
      "text/plain": [
       "18626"
      ]
     },
     "execution_count": 14,
     "metadata": {},
     "output_type": "execute_result"
    }
   ],
   "source": [
    "tmp = data.drop_duplicates(subset=['tweet_id','user_screen_name'])['user_screen_name'].value_counts()\n",
    "user_activity = tmp.to_dict()\n",
    "print(pd.Series(user_activity)[:3])\n",
    "len(user_activity)"
   ]
  },
  {
   "cell_type": "code",
   "execution_count": 15,
   "metadata": {},
   "outputs": [
    {
     "name": "stdout",
     "output_type": "stream",
     "text": [
      "1\n"
     ]
    }
   ],
   "source": [
    "print(pd.Series(user_activity).loc['Greenpeace'])"
   ]
  },
  {
   "cell_type": "markdown",
   "metadata": {},
   "source": [
    "## Create Graph-File"
   ]
  },
  {
   "cell_type": "code",
   "execution_count": 16,
   "metadata": {},
   "outputs": [
    {
     "data": {
      "text/plain": [
       "array([1897589], dtype=int64)"
      ]
     },
     "execution_count": 16,
     "metadata": {},
     "output_type": "execute_result"
    }
   ],
   "source": [
    "data[data['user_screen_name'].str.contains('Greenpeace')]['followers_count'].values"
   ]
  },
  {
   "cell_type": "code",
   "execution_count": 17,
   "metadata": {},
   "outputs": [
    {
     "data": {
      "text/plain": [
       "0"
      ]
     },
     "execution_count": 17,
     "metadata": {},
     "output_type": "execute_result"
    }
   ],
   "source": [
    "pd.Series(mentions).loc['Greenpeace']"
   ]
  },
  {
   "cell_type": "code",
   "execution_count": 18,
   "metadata": {},
   "outputs": [],
   "source": [
    "G = nx.DiGraph()"
   ]
  },
  {
   "cell_type": "code",
   "execution_count": null,
   "metadata": {},
   "outputs": [],
   "source": [
    "# Add nodes\n",
    "for key, mention in mentions.items():\n",
    "    G.add_node(key, followers_count=follower_counts[key])\n",
    "    if type(mentions) != 0:\n",
    "        for m in mentions:\n",
    "            G.add_node(m, followers_count=follower_counts[m])"
   ]
  },
  {
   "cell_type": "code",
   "execution_count": null,
   "metadata": {},
   "outputs": [],
   "source": [
    "len(G.nodes())"
   ]
  },
  {
   "cell_type": "code",
   "execution_count": null,
   "metadata": {},
   "outputs": [],
   "source": [
    "S = pd.Series(nx.get_node_attributes(G,'followers_count'))"
   ]
  },
  {
   "cell_type": "code",
   "execution_count": null,
   "metadata": {},
   "outputs": [],
   "source": [
    "S.loc['Greenpeace']"
   ]
  },
  {
   "cell_type": "markdown",
   "metadata": {},
   "source": [
    "### Graph with more attributes: followers, retweets, user activity"
   ]
  },
  {
   "cell_type": "code",
   "execution_count": 19,
   "metadata": {},
   "outputs": [],
   "source": [
    "G = nx.DiGraph()"
   ]
  },
  {
   "cell_type": "code",
   "execution_count": 20,
   "metadata": {},
   "outputs": [
    {
     "name": "stdout",
     "output_type": "stream",
     "text": [
      "---- 18626 of 18627 Nodes ----"
     ]
    }
   ],
   "source": [
    "# Add nodes\n",
    "iteration = 1\n",
    "for key, mention in mentions.items():\n",
    "    sys.stdout.flush()\n",
    "    sys.stdout.write('\\r---- {} of {} Nodes ----'.format(iteration, len(mentions)+1))\n",
    "    G.add_node(key, followers_count=follower_counts[key], user_activity=user_activity[key], retweet_counts=retweet_counts[key])\n",
    "    if type(mentions) != 0:\n",
    "        for m in mentions:\n",
    "            G.add_node(m, followers_count=follower_counts[m], user_activity=user_activity[m], retweet_counts=retweet_counts[m])\n",
    "            \n",
    "    iteration += 1"
   ]
  },
  {
   "cell_type": "code",
   "execution_count": 21,
   "metadata": {},
   "outputs": [
    {
     "data": {
      "text/plain": [
       "18626"
      ]
     },
     "execution_count": 21,
     "metadata": {},
     "output_type": "execute_result"
    }
   ],
   "source": [
    "len(G.nodes())"
   ]
  },
  {
   "cell_type": "code",
   "execution_count": 22,
   "metadata": {},
   "outputs": [
    {
     "data": {
      "text/plain": [
       "7104"
      ]
     },
     "execution_count": 22,
     "metadata": {},
     "output_type": "execute_result"
    }
   ],
   "source": [
    "pd.Series(nx.get_node_attributes(G, 'followers_count'))['researchmrx']"
   ]
  },
  {
   "cell_type": "code",
   "execution_count": 23,
   "metadata": {},
   "outputs": [
    {
     "data": {
      "text/plain": [
       "929"
      ]
     },
     "execution_count": 23,
     "metadata": {},
     "output_type": "execute_result"
    }
   ],
   "source": [
    "pd.Series(nx.get_node_attributes(G, 'user_activity'))['researchmrx']"
   ]
  },
  {
   "cell_type": "code",
   "execution_count": 24,
   "metadata": {},
   "outputs": [
    {
     "data": {
      "text/plain": [
       "23.0"
      ]
     },
     "execution_count": 24,
     "metadata": {},
     "output_type": "execute_result"
    }
   ],
   "source": [
    "pd.Series(nx.get_node_attributes(G, 'retweet_counts'))['Greenpeace']"
   ]
  },
  {
   "cell_type": "code",
   "execution_count": 25,
   "metadata": {},
   "outputs": [
    {
     "data": {
      "text/plain": [
       "0"
      ]
     },
     "execution_count": 25,
     "metadata": {},
     "output_type": "execute_result"
    }
   ],
   "source": [
    "pd.Series(mentions).loc['Greenpeace']"
   ]
  },
  {
   "cell_type": "code",
   "execution_count": 26,
   "metadata": {},
   "outputs": [
    {
     "data": {
      "text/plain": [
       "18626"
      ]
     },
     "execution_count": 26,
     "metadata": {},
     "output_type": "execute_result"
    }
   ],
   "source": [
    "len(mentions)"
   ]
  },
  {
   "cell_type": "code",
   "execution_count": 27,
   "metadata": {},
   "outputs": [
    {
     "name": "stdout",
     "output_type": "stream",
     "text": [
      "---- 12996 of 18627 Edges ----"
     ]
    },
    {
     "name": "stderr",
     "output_type": "stream",
     "text": [
      "IOPub message rate exceeded.\n",
      "The notebook server will temporarily stop sending output\n",
      "to the client in order to avoid crashing it.\n",
      "To change this limit, set the config variable\n",
      "`--NotebookApp.iopub_msg_rate_limit`.\n",
      "\n",
      "Current values:\n",
      "NotebookApp.iopub_msg_rate_limit=1000.0 (msgs/sec)\n",
      "NotebookApp.rate_limit_window=3.0 (secs)\n",
      "\n"
     ]
    },
    {
     "name": "stdout",
     "output_type": "stream",
     "text": [
      "---- 17033 of 18627 Edges ----"
     ]
    },
    {
     "name": "stderr",
     "output_type": "stream",
     "text": [
      "IOPub message rate exceeded.\n",
      "The notebook server will temporarily stop sending output\n",
      "to the client in order to avoid crashing it.\n",
      "To change this limit, set the config variable\n",
      "`--NotebookApp.iopub_msg_rate_limit`.\n",
      "\n",
      "Current values:\n",
      "NotebookApp.iopub_msg_rate_limit=1000.0 (msgs/sec)\n",
      "NotebookApp.rate_limit_window=3.0 (secs)\n",
      "\n"
     ]
    },
    {
     "name": "stdout",
     "output_type": "stream",
     "text": [
      "---- 18626 of 18627 Edges ----"
     ]
    }
   ],
   "source": [
    "# Add edges\n",
    "iteration = 1\n",
    "for key, val in mentions.items():\n",
    "    sys.stdout.flush()\n",
    "    sys.stdout.write('\\r---- {} of {} Edges ----'.format(iteration, len(mentions)+1))\n",
    "    if val != 0:\n",
    "        for v in val:\n",
    "            G.add_edge(key, v)\n",
    "    iteration += 1"
   ]
  },
  {
   "cell_type": "code",
   "execution_count": null,
   "metadata": {},
   "outputs": [],
   "source": []
  },
  {
   "cell_type": "code",
   "execution_count": 28,
   "metadata": {},
   "outputs": [],
   "source": [
    "nx.write_gexf(G, path='../data/gephi/many_attr.gexf')"
   ]
  },
  {
   "cell_type": "code",
   "execution_count": null,
   "metadata": {},
   "outputs": [],
   "source": [
    "data[data['user_screen_name']]"
   ]
  },
  {
   "cell_type": "code",
   "execution_count": 36,
   "metadata": {},
   "outputs": [
    {
     "data": {
      "text/html": [
       "<div>\n",
       "<style scoped>\n",
       "    .dataframe tbody tr th:only-of-type {\n",
       "        vertical-align: middle;\n",
       "    }\n",
       "\n",
       "    .dataframe tbody tr th {\n",
       "        vertical-align: top;\n",
       "    }\n",
       "\n",
       "    .dataframe thead th {\n",
       "        text-align: right;\n",
       "    }\n",
       "</style>\n",
       "<table border=\"1\" class=\"dataframe\">\n",
       "  <thead>\n",
       "    <tr style=\"text-align: right;\">\n",
       "      <th></th>\n",
       "      <th>creation_date</th>\n",
       "      <th>description</th>\n",
       "      <th>entities_hashtags</th>\n",
       "      <th>favourite_count</th>\n",
       "      <th>followers_count</th>\n",
       "      <th>friends_count</th>\n",
       "      <th>full_text</th>\n",
       "      <th>location</th>\n",
       "      <th>mentions</th>\n",
       "      <th>profile_created_at</th>\n",
       "      <th>protected</th>\n",
       "      <th>retweet_count</th>\n",
       "      <th>search_key</th>\n",
       "      <th>tweet_id</th>\n",
       "      <th>user_id</th>\n",
       "      <th>user_name</th>\n",
       "      <th>user_screen_name</th>\n",
       "      <th>is_retweet</th>\n",
       "      <th>RT_of_ID</th>\n",
       "    </tr>\n",
       "  </thead>\n",
       "  <tbody>\n",
       "    <tr>\n",
       "      <th>25135</th>\n",
       "      <td>2021-04-06 19:00:00+00:00</td>\n",
       "      <td>High-end documentaries on Nature, History, Cul...</td>\n",
       "      <td>GuineaPig, Experiments, AnimalTesting, AnimalL...</td>\n",
       "      <td>0</td>\n",
       "      <td>400</td>\n",
       "      <td>61</td>\n",
       "      <td>Bye Bye Guinea Pig? The Battle to STOP Animal ...</td>\n",
       "      <td>NaN</td>\n",
       "      <td>'YouTube'</td>\n",
       "      <td>2013-06-07 10:41:39+00:00</td>\n",
       "      <td>False</td>\n",
       "      <td>0</td>\n",
       "      <td>#AnimalRights</td>\n",
       "      <td>1379509209369296902</td>\n",
       "      <td>1490094044</td>\n",
       "      <td>Free Documentary</td>\n",
       "      <td>FreeYoutubedocs</td>\n",
       "      <td>False</td>\n",
       "      <td>NaN</td>\n",
       "    </tr>\n",
       "  </tbody>\n",
       "</table>\n",
       "</div>"
      ],
      "text/plain": [
       "                  creation_date  \\\n",
       "25135 2021-04-06 19:00:00+00:00   \n",
       "\n",
       "                                             description  \\\n",
       "25135  High-end documentaries on Nature, History, Cul...   \n",
       "\n",
       "                                       entities_hashtags  favourite_count  \\\n",
       "25135  GuineaPig, Experiments, AnimalTesting, AnimalL...                0   \n",
       "\n",
       "       followers_count  friends_count  \\\n",
       "25135              400             61   \n",
       "\n",
       "                                               full_text location   mentions  \\\n",
       "25135  Bye Bye Guinea Pig? The Battle to STOP Animal ...      NaN  'YouTube'   \n",
       "\n",
       "             profile_created_at  protected  retweet_count     search_key  \\\n",
       "25135 2013-06-07 10:41:39+00:00      False              0  #AnimalRights   \n",
       "\n",
       "                  tweet_id     user_id         user_name user_screen_name  \\\n",
       "25135  1379509209369296902  1490094044  Free Documentary  FreeYoutubedocs   \n",
       "\n",
       "       is_retweet  RT_of_ID  \n",
       "25135       False       NaN  "
      ]
     },
     "execution_count": 36,
     "metadata": {},
     "output_type": "execute_result"
    }
   ],
   "source": [
    "data[data['user_screen_name'].str.contains('Youtube')]"
   ]
  }
 ],
 "metadata": {
  "kernelspec": {
   "display_name": "Python 3",
   "language": "python",
   "name": "python3"
  },
  "language_info": {
   "codemirror_mode": {
    "name": "ipython",
    "version": 3
   },
   "file_extension": ".py",
   "mimetype": "text/x-python",
   "name": "python",
   "nbconvert_exporter": "python",
   "pygments_lexer": "ipython3",
   "version": "3.8.5"
  }
 },
 "nbformat": 4,
 "nbformat_minor": 4
}
