{
 "cells": [
  {
   "cell_type": "code",
   "execution_count": 21,
   "metadata": {},
   "outputs": [],
   "source": [
    "import pandas as pd\n",
    "import seaborn as sns\n",
    "import numpy as np\n",
    "from matplotlib import pyplot as plt\n",
    "from ipywidgets import interact, interactive, fixed\n",
    "from ipywidgets import IntSlider\n",
    "import networkx as nx\n",
    "import re\n",
    "\n",
    "import sys\n",
    "sys.path.append('..')\n",
    "from transform.read_transform import read_transform"
   ]
  },
  {
   "cell_type": "code",
   "execution_count": 22,
   "metadata": {},
   "outputs": [
    {
     "name": "stdout",
     "output_type": "stream",
     "text": [
      "(44334, 19)\n"
     ]
    }
   ],
   "source": [
    "data = read_transform(path_tweets='../data/TW.csv', path_retweets='../data/RT.csv', \n",
    "                      join_method='concat', \n",
    "                      hashtags_as_list=False, mentions_as_list=False)\n",
    "print(data.shape)"
   ]
  },
  {
   "cell_type": "code",
   "execution_count": 51,
   "metadata": {},
   "outputs": [
    {
     "data": {
      "text/html": [
       "<div>\n",
       "<style scoped>\n",
       "    .dataframe tbody tr th:only-of-type {\n",
       "        vertical-align: middle;\n",
       "    }\n",
       "\n",
       "    .dataframe tbody tr th {\n",
       "        vertical-align: top;\n",
       "    }\n",
       "\n",
       "    .dataframe thead th {\n",
       "        text-align: right;\n",
       "    }\n",
       "</style>\n",
       "<table border=\"1\" class=\"dataframe\">\n",
       "  <thead>\n",
       "    <tr style=\"text-align: right;\">\n",
       "      <th></th>\n",
       "      <th>RT_of_ID</th>\n",
       "      <th>creation_date</th>\n",
       "      <th>description</th>\n",
       "      <th>entities_hashtags</th>\n",
       "      <th>favourite_count</th>\n",
       "      <th>followers_count</th>\n",
       "      <th>friends_count</th>\n",
       "      <th>full_text</th>\n",
       "      <th>is_retweet</th>\n",
       "      <th>location</th>\n",
       "      <th>mentions</th>\n",
       "      <th>profile_created_at</th>\n",
       "      <th>protected</th>\n",
       "      <th>retweet_count</th>\n",
       "      <th>search_key</th>\n",
       "      <th>tweet_id</th>\n",
       "      <th>user_id</th>\n",
       "      <th>user_name</th>\n",
       "      <th>user_screen_name</th>\n",
       "    </tr>\n",
       "  </thead>\n",
       "  <tbody>\n",
       "    <tr>\n",
       "      <th>0</th>\n",
       "      <td>NaN</td>\n",
       "      <td>2021-04-01 02:06:11+00:00</td>\n",
       "      <td>I retweet #Anime stuff🔥 Follow for a cookie🍪</td>\n",
       "      <td>anime, food, animefood, hungry, 백종원, 고든램지</td>\n",
       "      <td>0</td>\n",
       "      <td>5064</td>\n",
       "      <td>1</td>\n",
       "      <td>RT @byOceanEyes: OceanEyes\\nonly for anime foo...</td>\n",
       "      <td>True</td>\n",
       "      <td>Animeland</td>\n",
       "      <td>'byOceanEyes'</td>\n",
       "      <td>2018-07-24 18:53:54+00:00</td>\n",
       "      <td>False</td>\n",
       "      <td>115</td>\n",
       "      <td>#food</td>\n",
       "      <td>1377442135604084742</td>\n",
       "      <td>1021830850357473280</td>\n",
       "      <td>RE:AnimeTron</td>\n",
       "      <td>ReAnimetron</td>\n",
       "    </tr>\n",
       "    <tr>\n",
       "      <th>1</th>\n",
       "      <td>NaN</td>\n",
       "      <td>2021-04-01 02:06:03+00:00</td>\n",
       "      <td>NaN</td>\n",
       "      <td>Food, FoodPorn, FoodPorn</td>\n",
       "      <td>0</td>\n",
       "      <td>16037</td>\n",
       "      <td>9925</td>\n",
       "      <td>Might not look as appetizing as other posts, b...</td>\n",
       "      <td>False</td>\n",
       "      <td>NaN</td>\n",
       "      <td>NaN</td>\n",
       "      <td>2015-08-01 07:11:08+00:00</td>\n",
       "      <td>False</td>\n",
       "      <td>0</td>\n",
       "      <td>#food</td>\n",
       "      <td>1377442100900421632</td>\n",
       "      <td>3303170203</td>\n",
       "      <td>Dining Cooking</td>\n",
       "      <td>DiningCooking</td>\n",
       "    </tr>\n",
       "    <tr>\n",
       "      <th>2</th>\n",
       "      <td>NaN</td>\n",
       "      <td>2021-04-01 02:05:30+00:00</td>\n",
       "      <td>NYT/#1 int'l bestselling author THOSE WHO SAVE...</td>\n",
       "      <td>poetry, food, PoetsCafe</td>\n",
       "      <td>0</td>\n",
       "      <td>6090</td>\n",
       "      <td>758</td>\n",
       "      <td>Come for the #poetry, stay for the #food—or vi...</td>\n",
       "      <td>False</td>\n",
       "      <td>Boston, MA</td>\n",
       "      <td>'AMIGHTYBLAZE', 'fascicles'</td>\n",
       "      <td>2009-09-02 04:30:11+00:00</td>\n",
       "      <td>False</td>\n",
       "      <td>0</td>\n",
       "      <td>#food</td>\n",
       "      <td>1377441963746721796</td>\n",
       "      <td>70882212</td>\n",
       "      <td>Jenna Blum</td>\n",
       "      <td>Jenna_Blum</td>\n",
       "    </tr>\n",
       "  </tbody>\n",
       "</table>\n",
       "</div>"
      ],
      "text/plain": [
       "   RT_of_ID             creation_date  \\\n",
       "0       NaN 2021-04-01 02:06:11+00:00   \n",
       "1       NaN 2021-04-01 02:06:03+00:00   \n",
       "2       NaN 2021-04-01 02:05:30+00:00   \n",
       "\n",
       "                                         description  \\\n",
       "0       I retweet #Anime stuff🔥 Follow for a cookie🍪   \n",
       "1                                                NaN   \n",
       "2  NYT/#1 int'l bestselling author THOSE WHO SAVE...   \n",
       "\n",
       "                           entities_hashtags  favourite_count  \\\n",
       "0  anime, food, animefood, hungry, 백종원, 고든램지                0   \n",
       "1                   Food, FoodPorn, FoodPorn                0   \n",
       "2                    poetry, food, PoetsCafe                0   \n",
       "\n",
       "   followers_count  friends_count  \\\n",
       "0             5064              1   \n",
       "1            16037           9925   \n",
       "2             6090            758   \n",
       "\n",
       "                                           full_text  is_retweet    location  \\\n",
       "0  RT @byOceanEyes: OceanEyes\\nonly for anime foo...        True   Animeland   \n",
       "1  Might not look as appetizing as other posts, b...       False         NaN   \n",
       "2  Come for the #poetry, stay for the #food—or vi...       False  Boston, MA   \n",
       "\n",
       "                      mentions        profile_created_at  protected  \\\n",
       "0                'byOceanEyes' 2018-07-24 18:53:54+00:00      False   \n",
       "1                          NaN 2015-08-01 07:11:08+00:00      False   \n",
       "2  'AMIGHTYBLAZE', 'fascicles' 2009-09-02 04:30:11+00:00      False   \n",
       "\n",
       "   retweet_count search_key             tweet_id              user_id  \\\n",
       "0            115      #food  1377442135604084742  1021830850357473280   \n",
       "1              0      #food  1377442100900421632           3303170203   \n",
       "2              0      #food  1377441963746721796             70882212   \n",
       "\n",
       "        user_name user_screen_name  \n",
       "0    RE:AnimeTron      ReAnimetron  \n",
       "1  Dining Cooking    DiningCooking  \n",
       "2      Jenna Blum       Jenna_Blum  "
      ]
     },
     "execution_count": 51,
     "metadata": {},
     "output_type": "execute_result"
    }
   ],
   "source": [
    "data.head(3)"
   ]
  },
  {
   "cell_type": "markdown",
   "metadata": {},
   "source": [
    "## Get all the mentions in a dictionary"
   ]
  },
  {
   "cell_type": "code",
   "execution_count": 106,
   "metadata": {},
   "outputs": [
    {
     "name": "stdout",
     "output_type": "stream",
     "text": [
      "(34171, 2)\n"
     ]
    },
    {
     "data": {
      "text/html": [
       "<div>\n",
       "<style scoped>\n",
       "    .dataframe tbody tr th:only-of-type {\n",
       "        vertical-align: middle;\n",
       "    }\n",
       "\n",
       "    .dataframe tbody tr th {\n",
       "        vertical-align: top;\n",
       "    }\n",
       "\n",
       "    .dataframe thead th {\n",
       "        text-align: right;\n",
       "    }\n",
       "</style>\n",
       "<table border=\"1\" class=\"dataframe\">\n",
       "  <thead>\n",
       "    <tr style=\"text-align: right;\">\n",
       "      <th></th>\n",
       "      <th>mentions</th>\n",
       "    </tr>\n",
       "    <tr>\n",
       "      <th>user_screen_name</th>\n",
       "      <th></th>\n",
       "    </tr>\n",
       "  </thead>\n",
       "  <tbody>\n",
       "    <tr>\n",
       "      <th>ReAnimetron</th>\n",
       "      <td>[byOceanEyes]</td>\n",
       "    </tr>\n",
       "    <tr>\n",
       "      <th>Jenna_Blum</th>\n",
       "      <td>[AMIGHTYBLAZE, fascicles]</td>\n",
       "    </tr>\n",
       "  </tbody>\n",
       "</table>\n",
       "</div>"
      ],
      "text/plain": [
       "                                   mentions\n",
       "user_screen_name                           \n",
       "ReAnimetron                   [byOceanEyes]\n",
       "Jenna_Blum        [AMIGHTYBLAZE, fascicles]"
      ]
     },
     "execution_count": 106,
     "metadata": {},
     "output_type": "execute_result"
    }
   ],
   "source": [
    "tmp = data[['mentions', 'user_screen_name']]\n",
    "tmp = tmp[tmp['mentions'].isnull() == False]\n",
    "tmp.loc[:,'mentions'] = tmp.loc[:,'mentions'].str.replace(\"'\", \"\").str.split(', ')\n",
    "print(tmp.shape)\n",
    "\n",
    "tmp = tmp.set_index('user_screen_name')\n",
    "tmp.head(2)"
   ]
  },
  {
   "cell_type": "code",
   "execution_count": 107,
   "metadata": {},
   "outputs": [
    {
     "data": {
      "text/plain": [
       "ReAnimetron                [byOceanEyes]\n",
       "Jenna_Blum     [AMIGHTYBLAZE, fascicles]\n",
       "dtype: object"
      ]
     },
     "execution_count": 107,
     "metadata": {},
     "output_type": "execute_result"
    }
   ],
   "source": [
    "mentions = tmp.to_dict()['mentions']\n",
    "pd.Series(mentions)[:2]"
   ]
  },
  {
   "cell_type": "code",
   "execution_count": 108,
   "metadata": {},
   "outputs": [
    {
     "data": {
      "text/plain": [
       "{'ReAnimetron': ['byOceanEyes'],\n",
       " 'Jenna_Blum': ['AMIGHTYBLAZE', 'fascicles'],\n",
       " 'tbevents_': ['MrsFreshFeet']}"
      ]
     },
     "execution_count": 108,
     "metadata": {},
     "output_type": "execute_result"
    }
   ],
   "source": [
    "import itertools\n",
    "dict(itertools.islice(mentions.items(), 3))"
   ]
  },
  {
   "cell_type": "markdown",
   "metadata": {},
   "source": [
    "## Get all the attributes in a dictionary"
   ]
  },
  {
   "cell_type": "code",
   "execution_count": 109,
   "metadata": {},
   "outputs": [
    {
     "data": {
      "text/plain": [
       "ReAnimetron       5064\n",
       "DiningCooking    16020\n",
       "dtype: int64"
      ]
     },
     "execution_count": 109,
     "metadata": {},
     "output_type": "execute_result"
    }
   ],
   "source": [
    "tmp = data[['user_screen_name', 'followers_count']].set_index('user_screen_name')\n",
    "follower_counts = tmp.to_dict()['followers_count']\n",
    "pd.Series(follower_counts)[:2]"
   ]
  },
  {
   "cell_type": "code",
   "execution_count": 110,
   "metadata": {},
   "outputs": [
    {
     "data": {
      "text/plain": [
       "{'ReAnimetron': 5064, 'DiningCooking': 16020, 'Jenna_Blum': 6090}"
      ]
     },
     "execution_count": 110,
     "metadata": {},
     "output_type": "execute_result"
    }
   ],
   "source": [
    "dict(itertools.islice(follower_counts.items(), 3))"
   ]
  },
  {
   "cell_type": "markdown",
   "metadata": {},
   "source": [
    "## Get Retweet count in a dictionary"
   ]
  },
  {
   "cell_type": "code",
   "execution_count": 111,
   "metadata": {},
   "outputs": [
    {
     "name": "stdout",
     "output_type": "stream",
     "text": [
      "004clinden    3.1\n",
      "007201_       1.0\n",
      "dtype: float64\n"
     ]
    },
    {
     "data": {
      "text/plain": [
       "18626"
      ]
     },
     "execution_count": 111,
     "metadata": {},
     "output_type": "execute_result"
    }
   ],
   "source": [
    "tmp = data[['user_screen_name', 'retweet_count']].groupby('user_screen_name').mean()\n",
    "retweet_counts = tmp.to_dict()['retweet_count']\n",
    "print(pd.Series(retweet_counts)[:2])\n",
    "len(retweet_counts)"
   ]
  },
  {
   "cell_type": "code",
   "execution_count": 112,
   "metadata": {},
   "outputs": [
    {
     "data": {
      "text/plain": [
       "{'004clinden': 3.1, '007201_': 1.0, '0123Mara': 84.0}"
      ]
     },
     "execution_count": 112,
     "metadata": {},
     "output_type": "execute_result"
    }
   ],
   "source": [
    "dict(itertools.islice(retweet_counts.items(), 3))"
   ]
  },
  {
   "cell_type": "markdown",
   "metadata": {},
   "source": [
    "## Get Activity leve of users"
   ]
  },
  {
   "cell_type": "code",
   "execution_count": 113,
   "metadata": {},
   "outputs": [
    {
     "name": "stdout",
     "output_type": "stream",
     "text": [
      "researchmrx       929\n",
      "CounterIreland    326\n",
      "WhatsOnOLIO       252\n",
      "dtype: int64\n"
     ]
    },
    {
     "data": {
      "text/plain": [
       "18626"
      ]
     },
     "execution_count": 113,
     "metadata": {},
     "output_type": "execute_result"
    }
   ],
   "source": [
    "tmp = data.drop_duplicates(subset=['tweet_id','user_screen_name'])['user_screen_name'].value_counts()\n",
    "user_activity = tmp.to_dict()\n",
    "print(pd.Series(user_activity)[:3])\n",
    "len(user_activity)"
   ]
  },
  {
   "cell_type": "markdown",
   "metadata": {},
   "source": [
    "## Create Graph-File"
   ]
  },
  {
   "cell_type": "code",
   "execution_count": 114,
   "metadata": {},
   "outputs": [],
   "source": [
    "G = nx.DiGraph()"
   ]
  },
  {
   "cell_type": "code",
   "execution_count": 115,
   "metadata": {},
   "outputs": [],
   "source": [
    "# Add nodes\n",
    "for key, mention in mentions.items():\n",
    "    G.add_node(key, followers_count=follower_counts[key])\n",
    "    if type(mentions) != float:\n",
    "        for m in mentions:\n",
    "            G.add_node(m, followers_count=follower_counts[m])"
   ]
  },
  {
   "cell_type": "code",
   "execution_count": 116,
   "metadata": {},
   "outputs": [
    {
     "data": {
      "text/plain": [
       "13633"
      ]
     },
     "execution_count": 116,
     "metadata": {},
     "output_type": "execute_result"
    }
   ],
   "source": [
    "len(G.nodes())"
   ]
  },
  {
   "cell_type": "code",
   "execution_count": 119,
   "metadata": {},
   "outputs": [
    {
     "data": {
      "text/plain": [
       "ReAnimetron     5064\n",
       "Jenna_Blum      6090\n",
       "tbevents_        822\n",
       "DGSpeaks       10223\n",
       "lealalicia      1035\n",
       "dtype: int64"
      ]
     },
     "execution_count": 119,
     "metadata": {},
     "output_type": "execute_result"
    }
   ],
   "source": [
    "pd.Series(nx.get_node_attributes(G,'followers_count'))[:5]"
   ]
  },
  {
   "cell_type": "markdown",
   "metadata": {},
   "source": [
    "### Graph with more attributes: followers, retweets, user activity"
   ]
  },
  {
   "cell_type": "code",
   "execution_count": 120,
   "metadata": {},
   "outputs": [],
   "source": [
    "G = nx.DiGraph()"
   ]
  },
  {
   "cell_type": "code",
   "execution_count": 121,
   "metadata": {},
   "outputs": [],
   "source": [
    "# Add nodes\n",
    "for key, mention in mentions.items():\n",
    "    G.add_node(key, followers_count=follower_counts[key], user_activity=user_activity[key], retweet_counts=retweet_counts[key])\n",
    "    if type(mentions) != float:\n",
    "        for m in mentions:\n",
    "            G.add_node(m, followers_count=follower_counts[m], user_activity=user_activity[m], retweet_counts=retweet_counts[m])"
   ]
  },
  {
   "cell_type": "code",
   "execution_count": 122,
   "metadata": {},
   "outputs": [
    {
     "data": {
      "text/plain": [
       "13633"
      ]
     },
     "execution_count": 122,
     "metadata": {},
     "output_type": "execute_result"
    }
   ],
   "source": [
    "len(G.nodes())"
   ]
  },
  {
   "cell_type": "code",
   "execution_count": 123,
   "metadata": {},
   "outputs": [
    {
     "data": {
      "text/plain": [
       "7104"
      ]
     },
     "execution_count": 123,
     "metadata": {},
     "output_type": "execute_result"
    }
   ],
   "source": [
    "pd.Series(nx.get_node_attributes(G, 'followers_count'))['researchmrx']"
   ]
  },
  {
   "cell_type": "code",
   "execution_count": 124,
   "metadata": {},
   "outputs": [
    {
     "data": {
      "text/plain": [
       "929"
      ]
     },
     "execution_count": 124,
     "metadata": {},
     "output_type": "execute_result"
    }
   ],
   "source": [
    "pd.Series(nx.get_node_attributes(G, 'user_activity'))['researchmrx']"
   ]
  },
  {
   "cell_type": "code",
   "execution_count": 125,
   "metadata": {},
   "outputs": [
    {
     "data": {
      "text/plain": [
       "1.7839681637293916"
      ]
     },
     "execution_count": 125,
     "metadata": {},
     "output_type": "execute_result"
    }
   ],
   "source": [
    "pd.Series(nx.get_node_attributes(G, 'retweet_counts'))['researchmrx']"
   ]
  },
  {
   "cell_type": "code",
   "execution_count": 126,
   "metadata": {},
   "outputs": [],
   "source": [
    "# Add edges\n",
    "for key, val in mentions.items():\n",
    "    if type(val) != float:\n",
    "        for v in val:\n",
    "            G.add_edge(key, v)"
   ]
  },
  {
   "cell_type": "code",
   "execution_count": 127,
   "metadata": {},
   "outputs": [],
   "source": [
    "nx.write_gexf(G, path='./myData/many_attr.gexf')"
   ]
  },
  {
   "cell_type": "code",
   "execution_count": null,
   "metadata": {},
   "outputs": [],
   "source": []
  }
 ],
 "metadata": {
  "kernelspec": {
   "display_name": "Python 3",
   "language": "python",
   "name": "python3"
  },
  "language_info": {
   "codemirror_mode": {
    "name": "ipython",
    "version": 3
   },
   "file_extension": ".py",
   "mimetype": "text/x-python",
   "name": "python",
   "nbconvert_exporter": "python",
   "pygments_lexer": "ipython3",
   "version": "3.7.3"
  }
 },
 "nbformat": 4,
 "nbformat_minor": 4
}
