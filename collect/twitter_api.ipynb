{
 "cells": [
  {
   "cell_type": "code",
   "execution_count": 1,
   "metadata": {},
   "outputs": [],
   "source": [
    "#pip install tweepy\n",
    "import tweepy"
   ]
  },
  {
   "cell_type": "code",
   "execution_count": 36,
   "metadata": {},
   "outputs": [
    {
     "name": "stdout",
     "output_type": "stream",
     "text": [
      "Authentication OK\n"
     ]
    }
   ],
   "source": [
    "# Authenticate to Twitter\n",
    "# fill in your api key details in here before running the program\n",
    "auth = tweepy.OAuthHandler(\"xxxx\",\n",
    "    \"xxxx\")\n",
    "auth.set_access_token(\"xxxx\",\n",
    "    \"xxxx\")\n",
    "\n",
    "api = tweepy.API(auth)\n",
    "\n",
    "try:\n",
    "    api.verify_credentials() #accounts method\n",
    "    print(\"Authentication OK\")\n",
    "except:\n",
    "    print(\"Error during authentication\")"
   ]
  },
  {
   "cell_type": "markdown",
   "metadata": {},
   "source": [
    "* Getting Users information"
   ]
  },
  {
   "cell_type": "code",
   "execution_count": 42,
   "metadata": {},
   "outputs": [
    {
     "name": "stdout",
     "output_type": "stream",
     "text": [
      "Name: Mario Arteaga Méndez\n",
      "Location: Basel, Switzerland\n",
      "Friends: 5\n"
     ]
    }
   ],
   "source": [
    "user = api.me()\n",
    " \n",
    "print('Name: ' + user.name)\n",
    "print('Location: ' + user.location)\n",
    "print('Friends: ' + str(user.friends_count))"
   ]
  },
  {
   "cell_type": "code",
   "execution_count": 44,
   "metadata": {},
   "outputs": [
    {
     "name": "stdout",
     "output_type": "stream",
     "text": [
      "Name: Monika Schlatter\n",
      "Location: Baden, Switzerland\n",
      "Friends: 435\n"
     ]
    }
   ],
   "source": [
    "user = api.get_user('mcschlatter')\n",
    " \n",
    "print('Name: ' + user.name)\n",
    "print('Location: ' + user.location)\n",
    "print('Friends: ' + str(user.friends_count))"
   ]
  },
  {
   "cell_type": "code",
   "execution_count": 45,
   "metadata": {},
   "outputs": [
    {
     "name": "stdout",
     "output_type": "stream",
     "text": [
      "eBildungslabor\n",
      "KrobathMartina\n",
      "LutzvanderHorst\n",
      "CatharineAquino\n",
      "adamgoldmanNYT\n",
      "YorkshireMuseum\n",
      "fraukeatschool\n",
      "Claudiaschuetz5\n",
      "TomFrankly\n",
      "juergen_handke\n"
     ]
    }
   ],
   "source": [
    "# getting Users friends\n",
    "user_friends = user.friends()\n",
    "for friend in user_friends[:10]:\n",
    "    print (friend.screen_name)"
   ]
  },
  {
   "cell_type": "markdown",
   "metadata": {},
   "source": [
    "* Tweets from home page and users timeline"
   ]
  },
  {
   "cell_type": "code",
   "execution_count": 15,
   "metadata": {},
   "outputs": [
    {
     "name": "stdout",
     "output_type": "stream",
     "text": [
      "b'\\xc2\\xabCorona-Impfung bei Kindern ist fragw\\xc3\\xbcrdig\\xc2\\xbb: So reagieren eine Ethikerin, eine Juristin und eine \\xc3\\x84rztin auf Impf-Pl\\xe2\\x80\\xa6 https://t.co/NhICvPOsAN'\n",
      "b'Das #Coronavirus und Missst\\xc3\\xa4nde in drei Kliniken: Diese Lehren zieht das #Universit\\xc3\\xa4tsspital #Z\\xc3\\xbcrich aus dem Jahr 2\\xe2\\x80\\xa6 https://t.co/2wznZHnSvy'\n",
      "b'Business as usual...\\xf0\\x9f\\x91\\xbd\\n\\n#OnThisDay last year, Messi notched a hat-trick of assists in #LaLigaSantander! \\xf0\\x9f\\x91\\x9f\\xf0\\x9f\\x8e\\xa9 https://t.co/eGc7Wv1FT8'\n",
      "b'F\\xc3\\xbcr #Jugendliche ist der #Shutdown schwer zu ertragen. Ihnen fehlt der Austausch mit Kolleginnen und Kollegen. Auch\\xe2\\x80\\xa6 https://t.co/HEDSf12HLy'\n",
      "b'Ohne Konzerte fehlen auch die Einnahmen: CDs kauft niemand mehr, Streaming bringt kaum etwas ein. Schweizer Musiker\\xe2\\x80\\xa6 https://t.co/6GXIDArG96'\n",
      "b\"Petitionen und Demos: Unmut gegen #Shutdown w\\xc3\\xa4chst: 100'000 Unterschriften haben Jungfreisinnige in den letzten Woc\\xe2\\x80\\xa6 https://t.co/ylG0XpBt7Q\"\n",
      "b'RT @Athletic_en: \\xf0\\x9f\\x8e\\x89 Happy birthday, Ernesto Valverde!!\\n\\n\\xf0\\x9f\\x94\\x99 Before he became a manager, Ernesto led the Athletic frontline as a Lion \\xf0\\x9f\\xa6\\x81\\n\\n\\xe2\\x9a\\x94\\xef\\xb8\\x8f 188\\xe2\\x80\\xa6'\n",
      "b'Zweites #Impeachmentverfahren gegen #Trump \\xe2\\x80\\x93 das m\\xc3\\xbcssen Sie wissen: Knapp drei Wochen nach seinem Auszug aus dem We\\xe2\\x80\\xa6 https://t.co/AS15mZFEmf'\n",
      "b'Das \\xc2\\xabHeitere B\\xc3\\xbcro der Brieffreundschaften\\xc2\\xbb in Wabern bei Bern hilft Schreibfreudigen bei der Kontaktaufnahme. Gerad\\xe2\\x80\\xa6 https://t.co/YQrc1BMFDa'\n",
      "b\"Gonzalo 'GOLAZO' Higuain! \\xf0\\x9f\\x98\\x8e\\n\\n#RealMadridGetafe \\n#LaLigaSantander https://t.co/RjtZddFEpn\"\n",
      "b'Zwar w\\xc3\\xbcrden die getroffenen #CoronaMassnahmen hierzulande ihre Wirkung zeigen, doch Covid-Taskforce-Chef Martin Ack\\xe2\\x80\\xa6 https://t.co/bEbQjv1SGZ'\n",
      "b'#OnThisDay last year, @alex_isak made the difference for @RealSociedadEN in the Basque Derby! \\xf0\\x9f\\x92\\x99\\xe2\\x9c\\xa8\\n\\n#LaLigaSantander https://t.co/y0MSMEw7Lz'\n",
      "b'Brasilianische #Virusvariante erstmals in der #Schweiz nachgewiesen: Bisher wurden 4411 F\\xc3\\xa4lle mit mutierten Coronav\\xe2\\x80\\xa6 https://t.co/K4mViTHRoR'\n",
      "b'Nawalnys Team setzt auf \\xc2\\xabkluges W\\xc3\\xa4hlen\\xc2\\xbb: Auf den Strassen flauen die #Proteste ab. Doch die Bewegung Nawalnys gibt\\xe2\\x80\\xa6 https://t.co/hLAojCoeWc'\n",
      "b'\\xc2\\xabLeck mich am Arsch\\xc2\\xbb: Lara Gut-Behrami tritt vor laufender Kamera gegen Crans-Montana nach. https://t.co/VCib1axE16'\n",
      "b'Die Menschenschlange vor der #Lebensmittelabgabestelle in #Z\\xc3\\xbcrich-Altstetten wird jede Woche l\\xc3\\xa4nger. Hunderte von L\\xe2\\x80\\xa6 https://t.co/PCS18yMdjo'\n",
      "b'After scoring a hat-trick on Saturday, Djuka is now the outright top scorer in #LaLigaSmartBank! \\xf0\\x9f\\x87\\xb7\\xf0\\x9f\\x87\\xb8\\xf0\\x9f\\x94\\x9d\\n\\n\\xe2\\x9d\\xa4\\xef\\xb8\\x8f\\xe2\\x80\\xa6 https://t.co/jk4tkgdz7I'\n",
      "b'Am Montag wurde BAG erstmals \\xc3\\xbcber Fall der brasilianischen #Mutation informiert. Masseray vom #BAG: Man kl\\xc3\\xa4re zurze\\xe2\\x80\\xa6 https://t.co/Fz6kLoQQiO'\n",
      "b'Coronavirus in der #Schweiz: Wie geht es den Schweizer #Intensivstationen? Unsere Grafiken zeigen die Auslastung \\xe2\\x80\\x93\\xe2\\x80\\xa6 https://t.co/NevwBd4SAR'\n",
      "b'Nebel verhindert den lang ersehnten Start der Ski-WM: Super-G der Frauen nach stundenlangem Warten verschoben. https://t.co/24n9AOcI3i'\n"
     ]
    }
   ],
   "source": [
    "public_tweets = api.home_timeline()\n",
    "for tweet in public_tweets:\n",
    "    print (tweet.text.encode('utf-8'))"
   ]
  },
  {
   "cell_type": "code",
   "execution_count": 16,
   "metadata": {},
   "outputs": [
    {
     "name": "stdout",
     "output_type": "stream",
     "text": [
      "20 Minuten said «Corona-Impfung bei Kindern ist fragwürdig»: So reagieren eine Ethikerin, eine Juristin und eine Ärztin auf Impf-Pl… https://t.co/NhICvPOsAN\n",
      "SRF News said Das #Coronavirus und Missstände in drei Kliniken: Diese Lehren zieht das #Universitätsspital #Zürich aus dem Jahr 2… https://t.co/2wznZHnSvy\n",
      "LaLiga English said Business as usual...👽\n",
      "\n",
      "#OnThisDay last year, Messi notched a hat-trick of assists in #LaLigaSantander! 👟🎩 https://t.co/eGc7Wv1FT8\n",
      "SRF News said Für #Jugendliche ist der #Shutdown schwer zu ertragen. Ihnen fehlt der Austausch mit Kolleginnen und Kollegen. Auch… https://t.co/HEDSf12HLy\n",
      "SRF News said Ohne Konzerte fehlen auch die Einnahmen: CDs kauft niemand mehr, Streaming bringt kaum etwas ein. Schweizer Musiker… https://t.co/6GXIDArG96\n",
      "SRF News said Petitionen und Demos: Unmut gegen #Shutdown wächst: 100'000 Unterschriften haben Jungfreisinnige in den letzten Woc… https://t.co/ylG0XpBt7Q\n",
      "LaLiga English said RT @Athletic_en: 🎉 Happy birthday, Ernesto Valverde!!\n",
      "\n",
      "🔙 Before he became a manager, Ernesto led the Athletic frontline as a Lion 🦁\n",
      "\n",
      "⚔️ 188…\n",
      "SRF News said Zweites #Impeachmentverfahren gegen #Trump – das müssen Sie wissen: Knapp drei Wochen nach seinem Auszug aus dem We… https://t.co/AS15mZFEmf\n",
      "SRF News said Das «Heitere Büro der Brieffreundschaften» in Wabern bei Bern hilft Schreibfreudigen bei der Kontaktaufnahme. Gerad… https://t.co/YQrc1BMFDa\n",
      "LaLiga English said Gonzalo 'GOLAZO' Higuain! 😎\n",
      "\n",
      "#RealMadridGetafe \n",
      "#LaLigaSantander https://t.co/RjtZddFEpn\n",
      "SRF News said Zwar würden die getroffenen #CoronaMassnahmen hierzulande ihre Wirkung zeigen, doch Covid-Taskforce-Chef Martin Ack… https://t.co/bEbQjv1SGZ\n",
      "LaLiga English said #OnThisDay last year, @alex_isak made the difference for @RealSociedadEN in the Basque Derby! 💙✨\n",
      "\n",
      "#LaLigaSantander https://t.co/y0MSMEw7Lz\n",
      "SRF News said Brasilianische #Virusvariante erstmals in der #Schweiz nachgewiesen: Bisher wurden 4411 Fälle mit mutierten Coronav… https://t.co/K4mViTHRoR\n",
      "SRF News said Nawalnys Team setzt auf «kluges Wählen»: Auf den Strassen flauen die #Proteste ab. Doch die Bewegung Nawalnys gibt… https://t.co/hLAojCoeWc\n",
      "20 Minuten said «Leck mich am Arsch»: Lara Gut-Behrami tritt vor laufender Kamera gegen Crans-Montana nach. https://t.co/VCib1axE16\n",
      "SRF News said Die Menschenschlange vor der #Lebensmittelabgabestelle in #Zürich-Altstetten wird jede Woche länger. Hunderte von L… https://t.co/PCS18yMdjo\n",
      "LaLiga English said After scoring a hat-trick on Saturday, Djuka is now the outright top scorer in #LaLigaSmartBank! 🇷🇸🔝\n",
      "\n",
      "❤️… https://t.co/jk4tkgdz7I\n",
      "SRF News said Am Montag wurde BAG erstmals über Fall der brasilianischen #Mutation informiert. Masseray vom #BAG: Man kläre zurze… https://t.co/Fz6kLoQQiO\n",
      "SRF News said Coronavirus in der #Schweiz: Wie geht es den Schweizer #Intensivstationen? Unsere Grafiken zeigen die Auslastung –… https://t.co/NevwBd4SAR\n",
      "20 Minuten said Nebel verhindert den lang ersehnten Start der Ski-WM: Super-G der Frauen nach stundenlangem Warten verschoben. https://t.co/24n9AOcI3i\n"
     ]
    }
   ],
   "source": [
    "for tweet in public_tweets:                    \n",
    "    print(f\"{tweet.user.name} said {tweet.text}\")"
   ]
  },
  {
   "cell_type": "markdown",
   "metadata": {},
   "source": [
    "* Method for USERS"
   ]
  },
  {
   "cell_type": "code",
   "execution_count": 18,
   "metadata": {},
   "outputs": [
    {
     "name": "stdout",
     "output_type": "stream",
     "text": [
      "User details:\n",
      "SRF News\n",
      "SRF News liefert Aktualitäten aus den Bereichen Politik, Wirtschaft, Kultur, Sport, Gesellschaft und Wissenschaft – mit Blick auf die Schweiz und die Welt.\n",
      "Switzerland \n",
      "\n",
      "Last 20 Followers:\n",
      "Sili\n",
      "Pascal Gabriel\n",
      "Alexandra Burgo\n",
      "Frau Zwitschert\n",
      "Walter Ritter\n",
      "the_elemental_codex\n",
      "Valentin Stark\n",
      "🔄 ɹǝzʇǝuɥɔs oɔɹɐɯ\n",
      "Zsuzsa Breier\n",
      "Felix Meier\n",
      "Kiflu\n",
      "Gilles\n",
      "Lars\n",
      "Soso\n",
      "Christian Bannwart\n",
      "1R;RyanMessiDybala💘\n",
      "Junaid A\n",
      "osterwalder\n",
      "Mara\n",
      "Intlekofer Bruno\n"
     ]
    }
   ],
   "source": [
    "user = api.get_user(\"@srfnews\")\n",
    "\n",
    "print(\"User details:\")\n",
    "print(user.name)\n",
    "print(user.description)\n",
    "print(user.location, '\\n')\n",
    "\n",
    "print(\"Last 20 Followers:\") # 20 per default\n",
    "\n",
    "for follower in user.followers():\n",
    "    print(follower.name)"
   ]
  },
  {
   "cell_type": "code",
   "execution_count": 14,
   "metadata": {},
   "outputs": [
    {
     "name": "stdout",
     "output_type": "stream",
     "text": [
      "Ben Huser:RT @srfnews: Breite parlamentarische Allianz gegen Burka-Verbot: Dieses hätte in der Verfassung nichts verloren, machte das Komitee «Nein z…\n",
      "HÜMANİST:@srfnews Könnte hette Kann sein.Mack nicht mehr hören diese Wörter\n",
      "Wahl-, Abstimmungs- & Coronajahr 2021:RT @srfnews: Breite parlamentarische Allianz gegen Burka-Verbot: Dieses hätte in der Verfassung nichts verloren, machte das Komitee «Nein z…\n",
      "Wahl-, Abstimmungs- & Coronajahr 2021:RT @srfnews: Petitionen und Demos: Unmut gegen #Shutdown wächst: 100'000 Unterschriften haben Jungfreisinnige in den letzten Wochen im Netz…\n",
      "Swissmartini:RT @srfnews: Nawalnys Team setzt auf «kluges Wählen»: Auf den Strassen flauen die #Proteste ab. Doch die Bewegung Nawalnys gibt nicht auf –…\n",
      "Jürg Grossen:RT @grunliberale: Die Tagesschau @srfnews zur gestrigen #DVglpCH. Unsere Delegierten beschlossen u.a. ein klares Ja zum Abkommen mit Indone…\n",
      "Mario_🍺⚽️🍺:RT @srfnews: Für #Jugendliche ist der #Shutdown schwer zu ertragen. Ihnen fehlt der Austausch mit Kolleginnen und Kollegen. Auch der Einsti…\n",
      "Rod Miller:@srfnews @miperrico @ChrRensch Man wird nicht zur \"Normalität\" gelangen auf der Grundlage des Wunschdenkens dieser… https://t.co/jtuIxnsgve\n",
      "dr-rat-schlag.ch:RT @EHB_swiss: Die #Jugendarbeitslosigkeit ist wegen der #Coronakrise deutlich gestiegen. Was die Folgen der Pandemie für eine ganze Genera…\n",
      "Stefan Werner:@SergeWinkler1 @LDV200 @srfnews Es gibt dann einen ganz neuen Expertentyp: Den Virussologen.\n"
     ]
    }
   ],
   "source": [
    "#SEARCH for user\n",
    "for tweet in api.search(q=\"@srfnews\", lang=\"de\", count=10):\n",
    "    print(f\"{tweet.user.name}:{tweet.text}\")"
   ]
  },
  {
   "cell_type": "code",
   "execution_count": 47,
   "metadata": {},
   "outputs": [
    {
     "name": "stdout",
     "output_type": "stream",
     "text": [
      "Laura Thinn : RT @KaungMKhant: @Myanmar_Now_Eng @Hahahah62960633 Mandalay this morning, police used smoke bombs!!! https://t.co/GYzwyuZ8uh\n",
      "Chris Kay : RT @david_wainer: The bleak view from a senior British diplomat concludes the Myanmar coup is irreversible, according to a confidential ass…\n",
      "Kyaw Myint Tun : #Defeat Dictatorship!\n",
      "\n",
      "3) Killing the 19 years old student by gunshot today is unacceptable who just involved in th… https://t.co/epMwxtf2AL\n",
      "Mimi Paw : RT @ChangThaw: Citizens are in love??? with beloved Supreme commander in Myanmar! \n",
      "#SaveMyanmar #militarycoupinMyanmar \n",
      "#militarycoup https…\n",
      "Kim : RT @YourAnonCentral: The money behind Myanmar’s coup.\n",
      "\n",
      "By seizing absolute power, coup leader Senior General Min Aung Hlaing protected his…\n",
      "Daw Nilar Htun : RT @YourAnonCentral: Police in #Myanmar fire live ammunition into a crowd protesting against the coup d'etat. #WhatsHappeningInMyanmar #Civ…\n",
      "Nay Khant : @RapporteurUn HEAR OUR VOICE\n",
      "\n",
      "Military government is violating Myanmar citizens. Their actions are awful. They trie… https://t.co/42yZzGGhJP\n"
     ]
    }
   ],
   "source": [
    "#SEARCH for text\n",
    "for tweet in api.search(q=\"Myanmar\", lang=\"en\", count=10):\n",
    "    print(f\"{tweet.user.name} : {tweet.text}\")"
   ]
  },
  {
   "cell_type": "code",
   "execution_count": null,
   "metadata": {},
   "outputs": [],
   "source": []
  },
  {
   "cell_type": "code",
   "execution_count": null,
   "metadata": {},
   "outputs": [],
   "source": []
  },
  {
   "cell_type": "code",
   "execution_count": null,
   "metadata": {},
   "outputs": [],
   "source": []
  }
 ],
 "metadata": {
  "kernelspec": {
   "display_name": "Python 3",
   "language": "python",
   "name": "python3"
  },
  "language_info": {
   "codemirror_mode": {
    "name": "ipython",
    "version": 3
   },
   "file_extension": ".py",
   "mimetype": "text/x-python",
   "name": "python",
   "nbconvert_exporter": "python",
   "pygments_lexer": "ipython3",
   "version": "3.7.3"
  }
 },
 "nbformat": 4,
 "nbformat_minor": 2
}
